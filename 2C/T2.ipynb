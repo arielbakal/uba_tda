{
 "cells": [
  {
   "cell_type": "markdown",
   "metadata": {},
   "source": [
    "# Programación Dinámica\n",
    "\n",
    "La idea es dividir el problema en subproblemas de tamaños menores que se resuelven recursivamente (o iterativamente). Al igual que divide and conquer.\n",
    "\n",
    "En BT nos encontramos que se realizan muchas veces llamadas a la función recursiva con los mismo parámetros, esto se conoce como SUPERPOSICIÓN DE ESTADOS, donde el arbol de llamadas recursivas resuelve el mismo problema varias veces.\n",
    "Un algoritmo de PD evita estas repeticiones con alguno de estos dos esquemas:\n",
    "- Top-down: Se implementa recursivamente, guardadno el resultado de cada llamada recursiva en una estructura de datos (memoización). Si una llamada recurisva se repite, se toma el resultado de esta estructura.\n",
    "- Bottom-up: Resolvemos primero los subproblemas mas pequeños y guardamos todos los resultados.\n",
    "\n",
    "### Calculo de coeficientes binomiales\n",
    "\n",
    "Usando el teorema de la teórica, podemos implemetar"
   ]
  },
  {
   "cell_type": "code",
   "execution_count": 2,
   "metadata": {},
   "outputs": [
    {
     "name": "stdout",
     "output_type": "stream",
     "text": [
      "Resultado combBT: 155117520, Tiempo: 18.90801239013672 segundos\n",
      "Resultado comb: 155117520.0, Tiempo: 0.0 segundos\n"
     ]
    }
   ],
   "source": [
    "import numpy as np\n",
    "import time\n",
    "\n",
    "def combBT(n, k):\n",
    "    if k == 0 or k == n:\n",
    "        return 1\n",
    "    else:\n",
    "        return combBT(n-1, k-1) + combBT(n-1, k)\n",
    "\n",
    "def comb(n, k):\n",
    "    A = np.zeros((n+1, k+1))\n",
    "    for i in range(1, n+1):\n",
    "        A[i][0] = 1\n",
    "    for j in range(0, k+1):\n",
    "        A[j][j] = 1\n",
    "    for i in range(2, n+1):\n",
    "        for j in range(1, min(i, k+1)):\n",
    "            A[i][j] = A[i-1][j-1] + A[i-1][j]\n",
    "    return A[n][k]\n",
    "\n",
    "start_time_bt = time.time()\n",
    "result_bt = combBT(30, 15)\n",
    "end_time_bt = time.time()\n",
    "print(f\"Resultado combBT: {result_bt}, Tiempo: {end_time_bt - start_time_bt} segundos\")\n",
    "\n",
    "start_time_comb = time.time()\n",
    "result_comb = comb(30, 15)\n",
    "end_time_comb = time.time()\n",
    "print(f\"Resultado comb: {result_comb}, Tiempo: {end_time_comb - start_time_comb} segundos\")"
   ]
  },
  {
   "cell_type": "markdown",
   "metadata": {},
   "source": [
    "Donde la tecnica usada es Bottom-up, ya que empezamos desde \"abajo\" o bien partimos de los subproblemas al problema (empezamos desde n=0 y k=0 hasta n=n y k=n).\n",
    "Logramos reducir la complejidad del algoritmo desde $Ω=(\\binom{n}{k})$ a $O(nk)$ con PD ya que recorremos y calculamos solo valores para la matriz de $n*k$. Su complejidad espacial es $O(nk)$, salvo que usemos solo 2 listas y vayamos guardando y sobreescribiendolas de tal manera de conseguir $O(k)$. Esto se puede ya que utilizamos valores de la fila anterior y por unica vez."
   ]
  },
  {
   "cell_type": "markdown",
   "metadata": {},
   "source": [
    "### Problema del cambio"
   ]
  },
  {
   "cell_type": "code",
   "execution_count": 30,
   "metadata": {},
   "outputs": [
    {
     "name": "stdout",
     "output_type": "stream",
     "text": [
      "Resultado cambioBT: 7, Tiempo: 2.8788881301879883 segundos\n",
      "Resultado cambioPD: 499, Tiempo: 0.01957225799560547 segundos\n",
      "Resultado cambioPD2: 499, Tiempo: 0.010388374328613281 segundos\n"
     ]
    }
   ],
   "source": [
    "a = [25, 10, 5, 1]\n",
    "\n",
    "def cambioBT(s):\n",
    "    if s == 0:\n",
    "        return 0\n",
    "    temp = [float('inf')]\n",
    "    for i in range(len(a)):\n",
    "        if a[i] <= s:\n",
    "            temp.append(1 + cambioBT(s-a[i]))\n",
    "    return min(temp)\n",
    "\n",
    "def cambioPD(s):\n",
    "    n = len(a)\n",
    "    dp = [[float('inf')] * (s + 1) for _ in range(n + 1)]\n",
    "\n",
    "    # Base: 0 monedas para hacer cambio de 0 centavos\n",
    "    for i in range(n + 1):\n",
    "        dp[i][0] = 0\n",
    "\n",
    "    for i in range(1, n + 1):\n",
    "        for j in range(1, s + 1):\n",
    "            if a[i - 1] <= j:\n",
    "                dp[i][j] = min(dp[i-1][j], dp[i][j - a[i - 1]] + 1)\n",
    "            else:\n",
    "                dp[i][j] = dp[i-1][j]\n",
    "\n",
    "    return dp[n][s]\n",
    "\n",
    "def cambioPD2(s):\n",
    "    # Crear una tabla para almacenar el número mínimo de monedas para cada valor de 0 a s\n",
    "    dp = [float('inf')] * (s + 1)\n",
    "    dp[0] = 0  # Base: 0 monedas para hacer cambio de 0 centavos\n",
    "\n",
    "    for i in range(1, s + 1):\n",
    "        for coin in a:\n",
    "            if coin <= i:\n",
    "                dp[i] = min(dp[i], dp[i - coin] + 1)\n",
    "\n",
    "    return dp[s]\n",
    "    \n",
    "start_time_bt = time.time()\n",
    "result_bt = cambioBT(49)\n",
    "end_time_bt = time.time()\n",
    "print(f\"Resultado cambioBT: {result_bt}, Tiempo: {end_time_bt - start_time_bt} segundos\")\n",
    "\n",
    "start_time_comb = time.time()\n",
    "result_pd = cambioPD(12431)\n",
    "end_time_comb = time.time()\n",
    "print(f\"Resultado cambioPD: {result_pd}, Tiempo: {end_time_comb - start_time_comb} segundos\")\n",
    "start_time_comb = time.time()\n",
    "result_pd2 = cambioPD2(12431)\n",
    "end_time_comb = time.time()\n",
    "print(f\"Resultado cambioPD2: {result_pd2}, Tiempo: {end_time_comb - start_time_comb} segundos\")"
   ]
  },
  {
   "cell_type": "markdown",
   "metadata": {},
   "source": [
    "En cambioPD tenemos una lista de 0 hasta s, inicializados en infinito. Aca definimos cuantas monedas necesitamos para cada numero de centavos s como indice en la lista. \n",
    "\n",
    "cambioPD y cambioPD2 son ambos Bottom-up, sin embargo tenemos una matriz y una lista como estructuras de datos, para la memoización, respectivamente. Ambos tienen una complejidad de $O(n*s)$, pero con complejidad espacial $O(n*s)$ (por ser matriz de n*s) y $O(s)$ (por ser una lista de s elementos) resp.\n",
    "\n",
    "Esta complejidad es mucho mejor que la complejidad temporal $O(|a|^s)$ que tenemos en cambioBT. La complejidad surge de que el arbol de recursion se divide en |a| ramas y en el peor caso llega hasta el nivel s."
   ]
  }
 ],
 "metadata": {
  "kernelspec": {
   "display_name": "Python 3",
   "language": "python",
   "name": "python3"
  },
  "language_info": {
   "codemirror_mode": {
    "name": "ipython",
    "version": 3
   },
   "file_extension": ".py",
   "mimetype": "text/x-python",
   "name": "python",
   "nbconvert_exporter": "python",
   "pygments_lexer": "ipython3",
   "version": "3.11.4"
  }
 },
 "nbformat": 4,
 "nbformat_minor": 2
}
