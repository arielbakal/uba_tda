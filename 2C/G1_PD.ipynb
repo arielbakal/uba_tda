{
 "cells": [
  {
   "cell_type": "code",
   "execution_count": 81,
   "metadata": {},
   "outputs": [],
   "source": [
    "import numpy as np\n",
    "import time"
   ]
  },
  {
   "cell_type": "markdown",
   "metadata": {},
   "source": [
    "## Optipago"
   ]
  },
  {
   "cell_type": "code",
   "execution_count": 69,
   "metadata": {},
   "outputs": [
    {
     "name": "stdout",
     "output_type": "stream",
     "text": [
      "[15  2]\n"
     ]
    }
   ],
   "source": [
    "B = [2,3,5,10,20,20]\n",
    "c = 14\n",
    "n = len(B)\n",
    "\n",
    "def cc(i, j):\n",
    "    if j <= 0: return np.array((0, 0))\n",
    "    if i < 0: return np.array((float('inf'), float('inf')))\n",
    "    if j > sum(B[0:i]): return cc(i-1, j-B[i]) + np.array((B[i], 1))\n",
    "    without_current = cc(i-1, j)\n",
    "    with_current = cc(i-1, j-B[i]) + np.array((B[i], 1))\n",
    "\n",
    "    if with_current[0] < without_current[0]:\n",
    "        return with_current\n",
    "    elif with_current[0] > without_current[0]:\n",
    "        return without_current\n",
    "    else:  # Si ambos tienen el mismo exceso, seleccionar el que use menos billetes\n",
    "        return with_current if with_current[1] < without_current[1] else without_current\n",
    "\n",
    "print(cc(n-1, c))"
   ]
  },
  {
   "cell_type": "code",
   "execution_count": 98,
   "metadata": {},
   "outputs": [
    {
     "name": "stdout",
     "output_type": "stream",
     "text": [
      "[15  2]\n"
     ]
    }
   ],
   "source": [
    "import numpy as np\n",
    "\n",
    "B = [2, 3, 5, 10, 20, 20]\n",
    "c = 14\n",
    "n = len(B)\n",
    "\n",
    "# Inicializamos memo como una matriz de objetos y asignamos -1 como indicador de no calculado\n",
    "memo = np.full((n + 1, c + 1), -1, dtype=object)\n",
    "\n",
    "def cc_pd(i, j):\n",
    "    if not isinstance(memo[i][j], int):  # Verifica si ya está calculado\n",
    "        return memo[i][j]\n",
    "    if j <= 0: return np.array((0, 0))\n",
    "    if i < 0: return np.array((float('inf'), float('inf')))\n",
    "    if j > sum(B[0:i]): return cc_pd(i-1, j-B[i]) + np.array((B[i], 1))\n",
    "    without_current = cc_pd(i-1, j)\n",
    "    with_current = cc_pd(i-1, j-B[i]) + np.array((B[i], 1))\n",
    "\n",
    "    if with_current[0] < without_current[0]:\n",
    "        memo[i][j] = with_current\n",
    "        return with_current\n",
    "    elif with_current[0] > without_current[0]:\n",
    "        memo[i][j] = without_current\n",
    "        return without_current\n",
    "    else:  # Si ambos tienen el mismo exceso, seleccionar el que use menos billetes\n",
    "        if with_current[1] < without_current[1]:\n",
    "            memo[i][j] = with_current\n",
    "            return with_current\n",
    "        else:\n",
    "            memo[i][j] = without_current\n",
    "            return without_current\n",
    "\n",
    "print(cc_pd(n-1, c))  # Output esperado: [15, 2]"
   ]
  },
  {
   "cell_type": "code",
   "execution_count": 99,
   "metadata": {},
   "outputs": [
    {
     "name": "stdout",
     "output_type": "stream",
     "text": [
      "[100   2]\n",
      "cc: 6.821021 segundos\n",
      "[100   2]\n",
      "cc_pd: 0.014464 segundos\n"
     ]
    }
   ],
   "source": [
    "B = [2, 3, 5, 10, 20, 20,30,32,60,32,5,3,3,1,6,19,30,81,7,17,43,15,77,12,9,10,10,10,10]\n",
    "c = 100\n",
    "n = len(B)\n",
    "\n",
    "start_time = time.perf_counter()\n",
    "\n",
    "print(cc(n-1, c))\n",
    "\n",
    "end_time = time.perf_counter()\n",
    "elapsed_time = end_time - start_time\n",
    "print(f\"cc: {elapsed_time:.6f} segundos\")\n",
    "\n",
    "start_time = time.perf_counter()\n",
    "\n",
    "memo = np.full((n + 1, c + 1), -1, dtype=object)\n",
    "print(cc_pd(n-1, c))\n",
    "\n",
    "end_time = time.perf_counter()\n",
    "elapsed_time = end_time - start_time\n",
    "print(f\"cc_pd: {elapsed_time:.6f} segundos\")"
   ]
  }
 ],
 "metadata": {
  "kernelspec": {
   "display_name": "Python 3",
   "language": "python",
   "name": "python3"
  },
  "language_info": {
   "codemirror_mode": {
    "name": "ipython",
    "version": 3
   },
   "file_extension": ".py",
   "mimetype": "text/x-python",
   "name": "python",
   "nbconvert_exporter": "python",
   "pygments_lexer": "ipython3",
   "version": "3.11.4"
  }
 },
 "nbformat": 4,
 "nbformat_minor": 2
}
