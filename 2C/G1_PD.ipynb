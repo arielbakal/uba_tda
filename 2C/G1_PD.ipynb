{
 "cells": [
  {
   "cell_type": "code",
   "execution_count": 1,
   "metadata": {},
   "outputs": [],
   "source": [
    "import numpy as np\n",
    "import time"
   ]
  },
  {
   "cell_type": "markdown",
   "metadata": {},
   "source": [
    "## Optipago"
   ]
  },
  {
   "cell_type": "code",
   "execution_count": 2,
   "metadata": {},
   "outputs": [
    {
     "name": "stdout",
     "output_type": "stream",
     "text": [
      "[15  2]\n"
     ]
    }
   ],
   "source": [
    "B = [2,3,5,10,20,20]\n",
    "c = 14\n",
    "n = len(B)\n",
    "\n",
    "def cc(i, j):\n",
    "    if j <= 0: return np.array((0, 0))\n",
    "    if i < 0: return np.array((float('inf'), float('inf')))\n",
    "    if j > sum(B[0:i]): return cc(i-1, j-B[i]) + np.array((B[i], 1))\n",
    "    without_current = cc(i-1, j)\n",
    "    with_current = cc(i-1, j-B[i]) + np.array((B[i], 1))\n",
    "\n",
    "    if with_current[0] < without_current[0]:\n",
    "        return with_current\n",
    "    elif with_current[0] > without_current[0]:\n",
    "        return without_current\n",
    "    else:  # Si ambos tienen el mismo exceso, seleccionar el que use menos billetes\n",
    "        return with_current if with_current[1] < without_current[1] else without_current\n",
    "\n",
    "print(cc(n-1, c))"
   ]
  },
  {
   "cell_type": "code",
   "execution_count": 43,
   "metadata": {},
   "outputs": [
    {
     "name": "stdout",
     "output_type": "stream",
     "text": [
      "[15  2]\n"
     ]
    }
   ],
   "source": [
    "B = [2, 3, 5, 10, 20, 20]\n",
    "c = 14\n",
    "n = len(B)\n",
    "\n",
    "# Inicializamos memo como una matriz de objetos y asignamos -1 como indicador de no calculado\n",
    "memo = np.full((n + 1, c + 1), -1, dtype=object)\n",
    "\n",
    "def cc_pd(i, j):\n",
    "    if not isinstance(memo[i][j], int):  # Verifica si ya está calculado\n",
    "        return memo[i][j]\n",
    "    if j <= 0: return np.array((0, 0))\n",
    "    if i < 0: return np.array((float('inf'), float('inf')))\n",
    "    if j > sum(B[0:i]): return cc_pd(i-1, j-B[i]) + np.array((B[i], 1))\n",
    "    without_current = cc_pd(i-1, j)\n",
    "    with_current = cc_pd(i-1, j-B[i]) + np.array((B[i], 1))\n",
    "\n",
    "    if with_current[0] < without_current[0]:\n",
    "        memo[i][j] = with_current\n",
    "        return with_current\n",
    "    elif with_current[0] > without_current[0]:\n",
    "        memo[i][j] = without_current\n",
    "        return without_current\n",
    "    else:  # Si ambos tienen el mismo exceso, seleccionar el que use menos billetes\n",
    "        if with_current[1] < without_current[1]:\n",
    "            memo[i][j] = with_current\n",
    "            return with_current\n",
    "        else:\n",
    "            memo[i][j] = without_current\n",
    "            return without_current\n",
    "\n",
    "print(cc_pd(n-1, c))  # Output esperado: [15, 2]"
   ]
  },
  {
   "cell_type": "code",
   "execution_count": 50,
   "metadata": {},
   "outputs": [
    {
     "name": "stdout",
     "output_type": "stream",
     "text": [
      "[15  2]\n"
     ]
    }
   ],
   "source": [
    "import numpy as np\n",
    "\n",
    "B = [2, 3, 10, 5, 20, 20]\n",
    "c = 14\n",
    "n = len(B)\n",
    "\n",
    "def cc_bottom_up(n, c):\n",
    "    # Crear una matriz llena de tuplas (infinito, infinito)\n",
    "    M = [[(float('inf'), float('inf')) for _ in range(c + 1 + max(B))] for _ in range(n + 1)]\n",
    "\n",
    "    # Inicializar la primera columna con (0, 0), ya que no necesitamos billetes para cubrir el costo 0\n",
    "    for i in range(n + 1):\n",
    "        M[i][0] = (0, 0)\n",
    "\n",
    "    # Llenar la matriz con los valores correctos\n",
    "    for i in range(1, n + 1):\n",
    "        for j in range(1, c + 1 + max(B)):\n",
    "            without_current = M[i-1][j]  # Caso en que no tomamos el billete actual\n",
    "            with_current = M[i][j-B[i-1]] + np.array((B[i-1], 1))\n",
    "\n",
    "            if with_current[0] < without_current[0]:\n",
    "                M[i][j] = with_current\n",
    "                continue\n",
    "            elif with_current[0] > without_current[0]:\n",
    "                M[i][j] = without_current\n",
    "                continue\n",
    "            else:  # Si ambos tienen el mismo exceso, seleccionar el que use menos billetes\n",
    "                if with_current[1] < without_current[1]:\n",
    "                    M[i][j] = with_current\n",
    "                    continue\n",
    "                else:\n",
    "                    M[i][j] = without_current\n",
    "                    continue\n",
    "\n",
    "    return M[n][c+1]\n",
    "    # del M[n][c+1 ... c + max(B)] tenemos de la primera a la ultima solucion optima\n",
    "    \n",
    "print(cc_bottom_up(n, c))\n"
   ]
  },
  {
   "cell_type": "code",
   "execution_count": 52,
   "metadata": {},
   "outputs": [
    {
     "name": "stdout",
     "output_type": "stream",
     "text": [
      "[15  2]\n",
      "cc: 0.000496 segundos\n",
      "[15  2]\n",
      "cc_pd: 0.000253 segundos\n",
      "[15  2]\n",
      "cc_bottom_up: 0.000748 segundos\n"
     ]
    }
   ],
   "source": [
    "B = [2, 3, 10, 5, 20, 20]\n",
    "c = 14\n",
    "n = len(B)\n",
    "\n",
    "start_time = time.perf_counter()\n",
    "\n",
    "print(cc(n-1, c))\n",
    "\n",
    "end_time = time.perf_counter()\n",
    "elapsed_time = end_time - start_time\n",
    "print(f\"cc: {elapsed_time:.6f} segundos\")\n",
    "\n",
    "start_time = time.perf_counter()\n",
    "\n",
    "memo = np.full((n + 1, c + 1), -1, dtype=object)\n",
    "print(cc_pd(n-1, c))\n",
    "\n",
    "end_time = time.perf_counter()\n",
    "elapsed_time = end_time - start_time\n",
    "print(f\"cc_pd: {elapsed_time:.6f} segundos\")\n",
    "\n",
    "start_time = time.perf_counter()\n",
    "\n",
    "print(cc_bottom_up(n-1, c))\n",
    "\n",
    "end_time = time.perf_counter()\n",
    "elapsed_time = end_time - start_time\n",
    "print(f\"cc_bottom_up: {elapsed_time:.6f} segundos\")"
   ]
  },
  {
   "cell_type": "markdown",
   "metadata": {},
   "source": [
    "## AstroTrade"
   ]
  },
  {
   "cell_type": "code",
   "execution_count": 7,
   "metadata": {},
   "outputs": [
    {
     "name": "stdout",
     "output_type": "stream",
     "text": [
      "7\n"
     ]
    }
   ],
   "source": [
    "p = [3,6,10]\n",
    "n = len(p)\n",
    "\n",
    "M = [[-1 for _ in range(n + 1)] for _ in range(n + 1)]\n",
    "M[n][0] = 0\n",
    "\n",
    "def astrotrade(j, c):\n",
    "\n",
    "    if j == 0 and c == 0:\n",
    "        return 0\n",
    "    elif c < 0 or c > j:\n",
    "        return float('-inf')\n",
    "    else:\n",
    "        if M[j-1][c] != -1:\n",
    "            stay = M[j-1][c]\n",
    "        else:\n",
    "            stay = astrotrade(j-1, c)\n",
    "        if M[j-1][c-1] != -1:\n",
    "            buy = M[j-1][c-1] - p[j-1]\n",
    "        else:\n",
    "            buy = astrotrade(j-1, c-1) - p[j-1]\n",
    "        if M[j-1][c+1] != -1:\n",
    "            sell = M[j-1][c+1] + p[j-1]\n",
    "        else:\n",
    "            sell = astrotrade(j-1, c+1) + p[j-1]\n",
    "        \n",
    "        return max(buy, sell, stay)\n",
    "    \n",
    "print(astrotrade(n,0))"
   ]
  },
  {
   "cell_type": "code",
   "execution_count": 20,
   "metadata": {},
   "outputs": [
    {
     "name": "stdout",
     "output_type": "stream",
     "text": [
      "[[0, 0, 0, 0, 0], [-inf, 3, -inf, -inf, -inf], [-inf, 3, 1, -inf, -inf], [-inf, 6, 1, -4, -inf], [-inf, -inf, -inf, -inf, -inf]]\n"
     ]
    },
    {
     "data": {
      "text/plain": [
       "6"
      ]
     },
     "execution_count": 20,
     "metadata": {},
     "output_type": "execute_result"
    }
   ],
   "source": [
    "p = [3,2,5,6]\n",
    "n = len(p)\n",
    "\n",
    "def astrotrade_bottom_up(n):\n",
    "    M = [[float('-inf') for _ in range(n + 1)] for _ in range(n + 1)]\n",
    "    for c in range(n+1):\n",
    "        M[0][c] = 0\n",
    "\n",
    "    for j in range(1, n):\n",
    "        for c in range(1, n):\n",
    "            if c > j:\n",
    "                continue\n",
    "            M[j][c] = max(M[j-1][c-1] - p[j-1],  M[j-1][c+1] + p[j-1], M[j-1][c])\n",
    "        \n",
    "    print(M)\n",
    "    return M[n-1][1]\n",
    "\n",
    "astrotrade_bottom_up(n)"
   ]
  },
  {
   "cell_type": "code",
   "execution_count": 50,
   "metadata": {},
   "outputs": [
    {
     "name": "stdout",
     "output_type": "stream",
     "text": [
      "[7, 1, -9, -inf]\n"
     ]
    },
    {
     "data": {
      "text/plain": [
       "7"
      ]
     },
     "execution_count": 50,
     "metadata": {},
     "output_type": "execute_result"
    }
   ],
   "source": [
    "p = [3, 6, 10]\n",
    "n = len(p)\n",
    "\n",
    "def astrotrade_bottom_up(n):\n",
    "    M1 = [float('-inf')] * (n + 1)\n",
    "    M2 = [float('-inf')] * (n + 1)\n",
    "    \n",
    "    M1[0] = 0  # La primera fila siempre es 0 para c = 0\n",
    "\n",
    "    for j in range(1, n+1):\n",
    "        for c in range(0, n):\n",
    "            if c > j:\n",
    "                continue\n",
    "            M2[c] = max(M1[c-1] - p[j-1], M1[c+1] + p[j-1], M1[c])\n",
    "        \n",
    "        # Ahora actualizamos 'M1' para la siguiente iteración\n",
    "        M1 = M2[:]\n",
    "    \n",
    "    print(M2)\n",
    "    return M2[0]\n",
    "\n",
    "astrotrade_bottom_up(n)\n"
   ]
  },
  {
   "cell_type": "markdown",
   "metadata": {},
   "source": [
    "## CortesEconomicos"
   ]
  },
  {
   "cell_type": "code",
   "execution_count": 17,
   "metadata": {},
   "outputs": [
    {
     "name": "stdout",
     "output_type": "stream",
     "text": [
      "20\n"
     ]
    }
   ],
   "source": [
    "C = [2,4,7]\n",
    "n = 10\n",
    "M = [[-1 for _ in range(n+1)] for _ in range(n+1)]\n",
    "\n",
    "def are_c_valid(C, i, j):\n",
    "    for c in C:\n",
    "        if i < c and c < j:\n",
    "            return True\n",
    "    return False\n",
    "\n",
    "def ce_td(i, j):\n",
    "    if M[i][j] != -1:\n",
    "        return M[i][j]\n",
    "    if not are_c_valid(C, i, j):\n",
    "        M[i][j] = 0\n",
    "        return 0\n",
    "    else:\n",
    "        min_valid_cuts = float('inf')\n",
    "        for c in C:\n",
    "            if i < c and c < j: \n",
    "                if M[i][c] != -1:\n",
    "                    i_c_stick = M[i][c]\n",
    "                else:\n",
    "                    i_c_stick = ce_td(i,c)\n",
    "                if M[c][j] != -1:\n",
    "                    c_j_stick = M[c][j]\n",
    "                else:\n",
    "                    c_j_stick = ce_td(c,j)\n",
    "                new_valid_cuts = min(min_valid_cuts, i_c_stick + c_j_stick)\n",
    "                min_valid_cuts = new_valid_cuts\n",
    "        M[i][j] = j-i + min_valid_cuts\n",
    "        return M[i][j]\n",
    "    \n",
    "    \n",
    "print(ce_td(0, n))"
   ]
  }
 ],
 "metadata": {
  "kernelspec": {
   "display_name": "Python 3",
   "language": "python",
   "name": "python3"
  },
  "language_info": {
   "codemirror_mode": {
    "name": "ipython",
    "version": 3
   },
   "file_extension": ".py",
   "mimetype": "text/x-python",
   "name": "python",
   "nbconvert_exporter": "python",
   "pygments_lexer": "ipython3",
   "version": "3.11.4"
  }
 },
 "nbformat": 4,
 "nbformat_minor": 2
}
