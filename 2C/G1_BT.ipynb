{
  "cells": [
    {
      "cell_type": "markdown",
      "metadata": {
        "id": "Ny9utKYmnBwj"
      },
      "source": [
        "## SumaSubconjuntosBT"
      ]
    },
    {
      "cell_type": "code",
      "execution_count": 3,
      "metadata": {
        "colab": {
          "base_uri": "https://localhost:8080/"
        },
        "id": "VjeTM6iqnF1d",
        "outputId": "e9265fe2-e1ab-4257-f32a-ec9475996240"
      },
      "outputs": [
        {
          "name": "stdout",
          "output_type": "stream",
          "text": [
            "True\n"
          ]
        }
      ],
      "source": [
        "def suma_restante(C, i):\n",
        "    res = 0\n",
        "    for c in C[:i]:\n",
        "        res += c\n",
        "    return res\n",
        "\n",
        "def ss(C, i, j):\n",
        "    if j < 0: return False # regla de factibilidad\n",
        "    if j + suma_restante(C, i) < k: False # regla #2\n",
        "    if i == 0: return (j==0)\n",
        "    else:\n",
        "        return ss(C, i-1, j) or ss(C, i-1, j-C[i])\n",
        "\n",
        "C = [6, 12, 6]\n",
        "k = 12\n",
        "print(ss(C, len(C)-1, k))\n"
      ]
    },
    {
      "cell_type": "markdown",
      "metadata": {
        "id": "D7ZRO959XvlD"
      },
      "source": [
        "## 2 - Magicuadrados\n",
        "\n",
        "a) Habría que generar $n^2!$ cuadrados, ya que son todas las posibles combinaciones de orden.\n",
        "\n",
        "b) Podriamos generar y extender listas de longitud $n^2!$, entendiendola como una matriz pero convertida a una sola fila.\n",
        "El arbol de backtracking deberia divirse en $n^2$ ramas en un principio, ya que para cada cuadrado tiene esa cantidad de opciones, luego para cada opcion tiene $n^2-1$ opciones y así sucesivamente. El arbol de backtracking para n=3, el primer nivel son listas de 1 elemento y el segundo nivel son listas de 2 elementos. Cada nivel tiene $\\binom{3}{h}$ nodos, siendo h el nivel del arbol.\n",
        "\n",
        "c) En el peor caso generamos todo el arbol. En el primer nivel tenemos $n^2$ nodos, en el segundo nivel tenemos $n^2*(n^2-1)$, en el tercero tenemos $n^2*(n^2-1)*(n^2-2)$ y así sucesivamente hasta el ultimo nivel ($n^2$) donde tendremos $n^2!$ nodos. Tendremos la suma de todos los niveles como complejidad ajustada y de forma general $O(n^2!)$\n",
        "\n",
        "e) Cuaderno\n"
      ]
    },
    {
      "cell_type": "code",
      "execution_count": 2,
      "metadata": {
        "colab": {
          "base_uri": "https://localhost:8080/"
        },
        "id": "Y6JN94LoYn-X",
        "outputId": "c06ae41d-0453-4854-cf90-ca9cb54e8cde"
      },
      "outputs": [
        {
          "name": "stdout",
          "output_type": "stream",
          "text": [
            "8\n"
          ]
        }
      ],
      "source": [
        "def es_magi_cuadrado(C, n):\n",
        "    # Convertimos la lista C en una matriz de tamaño n x n\n",
        "    matriz = [C[i * n:(i + 1) * n] for i in range(n)]\n",
        "\n",
        "    # La suma mágica que todas las filas, columnas y diagonales deben tener\n",
        "    suma_magica = n * (n * n + 1) // 2\n",
        "\n",
        "    # Verificamos las filas\n",
        "    for fila in matriz:\n",
        "        if sum(fila) != suma_magica:\n",
        "            return False\n",
        "\n",
        "    # Verificamos las columnas\n",
        "    for j in range(n):\n",
        "        suma_columna = sum(matriz[i][j] for i in range(n))\n",
        "        if suma_columna != suma_magica:\n",
        "            return False\n",
        "\n",
        "    # Verificamos la diagonal principal\n",
        "    suma_diagonal_principal = sum(matriz[i][i] for i in range(n))\n",
        "    if suma_diagonal_principal != suma_magica:\n",
        "        return False\n",
        "\n",
        "    # Verificamos la diagonal secundaria\n",
        "    suma_diagonal_secundaria = sum(matriz[i][n - i - 1] for i in range(n))\n",
        "    if suma_diagonal_secundaria != suma_magica:\n",
        "        return False\n",
        "\n",
        "    # Si pasa todas las pruebas, es un cuadrado mágico\n",
        "    return True\n",
        "\n",
        "def magi_cuadrados(C, i, n):\n",
        "    res = 0\n",
        "    if i == n*n:\n",
        "        if es_magi_cuadrado(C, n):\n",
        "            return 1\n",
        "        else:\n",
        "            return 0\n",
        "    for num in range(1, n*n + 1):\n",
        "        if num not in C:\n",
        "            C.append(num)\n",
        "            res += magi_cuadrados(C, i + 1, n)\n",
        "            C.pop()\n",
        "    return res\n",
        "\n",
        "# Llamada a la función con las correcciones\n",
        "print(magi_cuadrados([], 0, 3))\n"
      ]
    },
    {
      "cell_type": "markdown",
      "metadata": {},
      "source": [
        "## MaxiSubconjunto\n",
        "\n",
        "a), b) y c) Cuaderno"
      ]
    },
    {
      "cell_type": "markdown",
      "metadata": {},
      "source": [
        "## RutaMinima"
      ]
    }
  ],
  "metadata": {
    "colab": {
      "provenance": []
    },
    "kernelspec": {
      "display_name": "Python 3",
      "name": "python3"
    },
    "language_info": {
      "codemirror_mode": {
        "name": "ipython",
        "version": 3
      },
      "file_extension": ".py",
      "mimetype": "text/x-python",
      "name": "python",
      "nbconvert_exporter": "python",
      "pygments_lexer": "ipython3",
      "version": "3.11.4"
    }
  },
  "nbformat": 4,
  "nbformat_minor": 0
}
