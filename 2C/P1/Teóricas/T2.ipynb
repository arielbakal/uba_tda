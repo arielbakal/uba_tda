{
 "cells": [
  {
   "cell_type": "markdown",
   "metadata": {},
   "source": [
    "# Programación Dinámica\n",
    "\n",
    "La idea es dividir el problema en subproblemas de tamaños menores que se resuelven recursivamente (o iterativamente). Al igual que divide and conquer.\n",
    "\n",
    "En BT nos encontramos que se realizan muchas veces llamadas a la función recursiva con los mismo parámetros, esto se conoce como SUPERPOSICIÓN DE ESTADOS, donde el arbol de llamadas recursivas resuelve el mismo problema varias veces.\n",
    "Un algoritmo de PD evita estas repeticiones con alguno de estos dos esquemas:\n",
    "- Top-down: Se implementa recursivamente, guardadno el resultado de cada llamada recursiva en una estructura de datos (memoización). Si una llamada recurisva se repite, se toma el resultado de esta estructura.\n",
    "- Bottom-up: Resolvemos primero los subproblemas mas pequeños y guardamos todos los resultados.\n",
    "\n",
    "### Calculo de coeficientes binomiales\n",
    "\n",
    "Usando el teorema de la teórica, podemos implemetar"
   ]
  },
  {
   "cell_type": "code",
   "execution_count": 2,
   "metadata": {},
   "outputs": [
    {
     "name": "stdout",
     "output_type": "stream",
     "text": [
      "Resultado combBT: 155117520, Tiempo: 18.90801239013672 segundos\n",
      "Resultado comb: 155117520.0, Tiempo: 0.0 segundos\n"
     ]
    }
   ],
   "source": [
    "import numpy as np\n",
    "import time\n",
    "\n",
    "def combBT(n, k):\n",
    "    if k == 0 or k == n:\n",
    "        return 1\n",
    "    else:\n",
    "        return combBT(n-1, k-1) + combBT(n-1, k)\n",
    "\n",
    "def comb(n, k):\n",
    "    A = np.zeros((n+1, k+1))\n",
    "    for i in range(1, n+1):\n",
    "        A[i][0] = 1\n",
    "    for j in range(0, k+1):\n",
    "        A[j][j] = 1\n",
    "    for i in range(2, n+1):\n",
    "        for j in range(1, min(i, k+1)):\n",
    "            A[i][j] = A[i-1][j-1] + A[i-1][j]\n",
    "    return A[n][k]\n",
    "\n",
    "start_time_bt = time.time()\n",
    "result_bt = combBT(30, 15)\n",
    "end_time_bt = time.time()\n",
    "print(f\"Resultado combBT: {result_bt}, Tiempo: {end_time_bt - start_time_bt} segundos\")\n",
    "\n",
    "start_time_comb = time.time()\n",
    "result_comb = comb(30, 15)\n",
    "end_time_comb = time.time()\n",
    "print(f\"Resultado comb: {result_comb}, Tiempo: {end_time_comb - start_time_comb} segundos\")"
   ]
  },
  {
   "cell_type": "markdown",
   "metadata": {},
   "source": [
    "Donde la tecnica usada es Bottom-up, ya que empezamos desde \"abajo\" o bien partimos de los subproblemas al problema (empezamos desde n=0 y k=0 hasta n=n y k=n).\n",
    "Logramos reducir la complejidad del algoritmo desde $Ω=(\\binom{n}{k})$ a $O(nk)$ con PD ya que recorremos y calculamos solo valores para la matriz de $n*k$. Su complejidad espacial es $O(nk)$, salvo que usemos solo 2 listas y vayamos guardando y sobreescribiendolas de tal manera de conseguir $O(k)$. Esto se puede ya que utilizamos valores de la fila anterior y por unica vez."
   ]
  },
  {
   "cell_type": "markdown",
   "metadata": {},
   "source": [
    "### Problema del cambio"
   ]
  },
  {
   "cell_type": "code",
   "execution_count": 30,
   "metadata": {},
   "outputs": [
    {
     "name": "stdout",
     "output_type": "stream",
     "text": [
      "Resultado cambioBT: 7, Tiempo: 2.8788881301879883 segundos\n",
      "Resultado cambioPD: 499, Tiempo: 0.01957225799560547 segundos\n",
      "Resultado cambioPD2: 499, Tiempo: 0.010388374328613281 segundos\n"
     ]
    }
   ],
   "source": [
    "a = [25, 10, 5, 1]\n",
    "\n",
    "def cambioBT(s):\n",
    "    if s == 0:\n",
    "        return 0\n",
    "    temp = [float('inf')]\n",
    "    for i in range(len(a)):\n",
    "        if a[i] <= s:\n",
    "            temp.append(1 + cambioBT(s-a[i]))\n",
    "    return min(temp)\n",
    "\n",
    "def cambioPD(s):\n",
    "    n = len(a)\n",
    "    dp = [[float('inf')] * (s + 1) for _ in range(n + 1)]\n",
    "\n",
    "    # Base: 0 monedas para hacer cambio de 0 centavos\n",
    "    for i in range(n + 1):\n",
    "        dp[i][0] = 0\n",
    "\n",
    "    for i in range(1, n + 1):\n",
    "        for j in range(1, s + 1):\n",
    "            if a[i - 1] <= j:\n",
    "                dp[i][j] = min(dp[i-1][j], dp[i][j - a[i - 1]] + 1)\n",
    "            else:\n",
    "                dp[i][j] = dp[i-1][j]\n",
    "\n",
    "    return dp[n][s]\n",
    "\n",
    "def cambioPD2(s):\n",
    "    # Crear una tabla para almacenar el número mínimo de monedas para cada valor de 0 a s\n",
    "    dp = [float('inf')] * (s + 1)\n",
    "    dp[0] = 0  # Base: 0 monedas para hacer cambio de 0 centavos\n",
    "\n",
    "    for i in range(1, s + 1):\n",
    "        for coin in a:\n",
    "            if coin <= i:\n",
    "                dp[i] = min(dp[i], dp[i - coin] + 1)\n",
    "\n",
    "    return dp[s]\n",
    "    \n",
    "start_time_bt = time.time()\n",
    "result_bt = cambioBT(49)\n",
    "end_time_bt = time.time()\n",
    "print(f\"Resultado cambioBT: {result_bt}, Tiempo: {end_time_bt - start_time_bt} segundos\")\n",
    "\n",
    "start_time_comb = time.time()\n",
    "result_pd = cambioPD(12431)\n",
    "end_time_comb = time.time()\n",
    "print(f\"Resultado cambioPD: {result_pd}, Tiempo: {end_time_comb - start_time_comb} segundos\")\n",
    "start_time_comb = time.time()\n",
    "result_pd2 = cambioPD2(12431)\n",
    "end_time_comb = time.time()\n",
    "print(f\"Resultado cambioPD2: {result_pd2}, Tiempo: {end_time_comb - start_time_comb} segundos\")"
   ]
  },
  {
   "cell_type": "markdown",
   "metadata": {},
   "source": [
    "En cambioPD2 tenemos una lista de 0 hasta s, inicializados en infinito. Aca definimos cuantas monedas necesitamos para cada numero de centavos s como indice en la lista. Por cada valor de s, recorremos todas las monedas y vemos cual minimiza mas, usando el valor del minimo de monedas para los valores anteriores de s.\n",
    "\n",
    "cambioPD y cambioPD2 son ambos Bottom-up, sin embargo tenemos una matriz y una lista como estructuras de datos, para la memoización, respectivamente. Ambos tienen una complejidad de $O(n*s)$, pero con complejidad espacial $O(n*s)$ (por ser matriz de n*s) y $O(s)$ (por ser una lista de s elementos) resp.\n",
    "\n",
    "Esta complejidad es mucho mejor que la complejidad temporal $O(|a|^s)$ que tenemos en cambioBT. La complejidad surge de que el arbol de recursion se divide en |a| ramas y en el peor caso llega hasta el nivel s."
   ]
  },
  {
   "cell_type": "markdown",
   "metadata": {},
   "source": [
    "### Problema de la mochila\n",
    "\n",
    "Como queremos maximizar, nuestra matriz de memoización debería inicializarse en -infinito. Luego inicializamos la columa 0 y fila 0 en 0 ya que con 0 objetos el maximo beneficio que conseguimos es 0 y con capacidad 0 lo mismo. Ademas necesitamos iniciar desde algun punto."
   ]
  },
  {
   "cell_type": "code",
   "execution_count": 13,
   "metadata": {},
   "outputs": [
    {
     "name": "stdout",
     "output_type": "stream",
     "text": [
      "(38, [3, 1])\n"
     ]
    }
   ],
   "source": [
    "pesos = [3, 8, 3, 1, 6]\n",
    "beneficios = [10, 25, 7, 13, 8]\n",
    "n = 5\n",
    "C = 10\n",
    "\n",
    "def m(k, D):\n",
    "    M = [[float('-inf') for _ in range(D+1)] for _ in range(k+1)]\n",
    "    \n",
    "    # Inicializar las columnas y filas base\n",
    "    for i in range(k+1):\n",
    "        M[i][0] = 0\n",
    "    for j in range(D+1):\n",
    "        M[0][j] = 0\n",
    "    \n",
    "    # Rellenar la matriz\n",
    "    for i in range(1, k+1):\n",
    "        for j in range(1, D+1):\n",
    "            if pesos[i-1] <= j:\n",
    "                M[i][j] = max(M[i-1][j], M[i-1][j-pesos[i-1]] + beneficios[i-1])\n",
    "            else:\n",
    "                M[i][j] = M[i-1][j]\n",
    "\n",
    "    # Reconstrucción de la solución óptima\n",
    "    solucion = []\n",
    "    for i in range(n, 0, -1):\n",
    "        if M[i][C] != M[i-1][C]:\n",
    "            solucion.append(i-1)\n",
    "            C -= pesos[i-1]\n",
    "    \n",
    "    return M[k][D], solucion\n",
    "\n",
    "print(m(n, C))\n"
   ]
  },
  {
   "cell_type": "markdown",
   "metadata": {},
   "source": [
    "Finalmente, calculamos todos los valores de la matriz de $(n+1)*(C+1)$ en $O(1)$. Luego tenemos una complejidad temporal y espacial de $O(nC)$.\n",
    "\n",
    "Notar que M[k][D] proporciona el valor optimo, pero no la solucion optima. Para esto deberiamos recontruir la solución, donde obtendremos el conjunto de objetos que resulta en el valor optimo. Tendremos que recorrer al revez (de n a 0) y partir de j=C, ya que empezamos buscando obtener el beneficio maximo con la capacidad maxima, ir encontrando diferencias entre i y i-1 (agregar objetos obtuvo mas beneficio) y reducir la capacidad con el peso de aquel objeto que maximiza."
   ]
  },
  {
   "cell_type": "markdown",
   "metadata": {},
   "source": [
    "### Subsecuencia común más larga\n",
    "\n"
   ]
  },
  {
   "cell_type": "code",
   "execution_count": 20,
   "metadata": {},
   "outputs": [
    {
     "name": "stdout",
     "output_type": "stream",
     "text": [
      "Longitud de la SCML: 6\n",
      "Subsecuencia común más larga: [9, 5, 8, 7, 1, 6]\n"
     ]
    }
   ],
   "source": [
    "def scml(A, B):\n",
    "    r = len(A)\n",
    "    s = len(B)\n",
    "    l = [[float('-inf') for _ in range(s+1)] for _ in range(r+1)]\n",
    "    \n",
    "    for i in range(r+1):\n",
    "        l[i][0] = 0\n",
    "    for j in range(s+1):\n",
    "        l[0][j] = 0\n",
    "    \n",
    "    for i in range(1, r+1):\n",
    "        for j in range(1, s+1):\n",
    "            if A[i-1] == B[j-1]:\n",
    "                l[i][j] = l[i-1][j-1] + 1\n",
    "            else:\n",
    "                l[i][j] = max(l[i-1][j], l[i][j-1])\n",
    "\n",
    "    # Reconstruir la solución óptima\n",
    "    scml_solucion = []\n",
    "    i, j = r, s\n",
    "    while i > 0 and j > 0:\n",
    "        if A[i-1] == B[j-1]:\n",
    "            scml_solucion.append(A[i-1])\n",
    "            i -= 1\n",
    "            j -= 1\n",
    "        elif l[i-1][j] >= l[i][j-1]:\n",
    "            i -= 1\n",
    "        else:\n",
    "            j -= 1\n",
    "    # La solución se reconstruyó de atrás hacia adelante, por lo que hay que invertirla\n",
    "    scml_solucion.reverse()  \n",
    "\n",
    "    return l[r][s], scml_solucion\n",
    "\n",
    "A = [9, 5, 2, 8, 7, 3, 1, 6, 4]\n",
    "B = [2, 9, 3, 5, 8, 7, 4, 1, 6]\n",
    "\n",
    "longitud, subsecuencia = scml(A, B)\n",
    "print(\"Longitud de la SCML:\", longitud)\n",
    "print(\"Subsecuencia común más larga:\", subsecuencia)"
   ]
  }
 ],
 "metadata": {
  "kernelspec": {
   "display_name": "Python 3",
   "language": "python",
   "name": "python3"
  },
  "language_info": {
   "codemirror_mode": {
    "name": "ipython",
    "version": 3
   },
   "file_extension": ".py",
   "mimetype": "text/x-python",
   "name": "python",
   "nbconvert_exporter": "python",
   "pygments_lexer": "ipython3",
   "version": "3.10.11"
  }
 },
 "nbformat": 4,
 "nbformat_minor": 2
}
