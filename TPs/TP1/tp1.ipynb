{
  "nbformat": 4,
  "nbformat_minor": 0,
  "metadata": {
    "colab": {
      "provenance": []
    },
    "kernelspec": {
      "name": "python3",
      "display_name": "Python 3"
    },
    "language_info": {
      "name": "python"
    }
  },
  "cells": [
    {
      "cell_type": "code",
      "execution_count": null,
      "metadata": {
        "id": "CVgMyX8M-wGp"
      },
      "outputs": [],
      "source": [
        "sample = [('sameezahur', 20, 21),('sohelh', 18, 9),('jaan', 17, 86),('sidky', 16, 36),('shamim', 16, 18),('shadowcoder', 12, 9),('muntasir', 13, 4),('brokenarrow', 16, 16),('emotionalblind', 16, 12),('tanaeem', 20, 97)]"
      ]
    },
    {
      "cell_type": "code",
      "source": [
        "def formacion_bt(i, cant_jugadores, formacion_actual, suma_actual, suma_max):\n",
        "    if cant_jugadores == 5:  # Caso base: llegue al límite de solo 5 atacantes\n",
        "        actualizar_max(formacion_actual, suma_actual, suma_max)\n",
        "        return\n",
        "    if i == len(sample):\n",
        "        return\n",
        "\n",
        "    # Incluir jugador y explorar\n",
        "    formacion_bt(i + 1, cant_jugadores + 1, formacion_actual + [sample[i]], suma_actual + sample[i][1], suma_max)\n",
        "    # Excluir jugador y explorar\n",
        "    formacion_bt(i + 1, cant_jugadores, formacion_actual, suma_actual, suma_max)\n",
        "\n",
        "def actualizar_max(formacion_actual, suma_actual, suma_max):\n",
        "  if suma_actual > suma_max[0]:  # Si encontramos una nueva combinación que maximiza el valor de ataque\n",
        "    atacantes_comb_max.clear()  # Limpiar la lista de combinaciones anteriores\n",
        "    atacantes_comb_max.append((formacion_actual[:], suma_actual))  # Agregar esta combinación como la única que maximiza hasta ahora\n",
        "    suma_max[0] = suma_actual  # Actualizar la suma máxima de habilidades de ataque\n",
        "  elif suma_actual == suma_max[0]:  # Si la suma actual es igual a la suma máxima\n",
        "    atacantes_comb_max.append((formacion_actual[:], suma_actual))  # Agregar esta combinación a la lista de combinaciones que maximizan el valor de ataque"
      ],
      "metadata": {
        "id": "bfq8CDVLxFji"
      },
      "execution_count": null,
      "outputs": []
    },
    {
      "cell_type": "code",
      "source": [
        "# inicializo result\n",
        "atacantes_final = []\n",
        "defensores_final = []\n",
        "\n",
        "# inicializo combinaciones\n",
        "atacantes_comb_max = []\n",
        "defensores_comb_max = []\n",
        "\n",
        "# inicio backtracking\n",
        "suma_max = [float('-inf')]  # Lista para almacenar la suma máxima de habilidades de ataque encontrada (usando una lista para hacerla mutable)\n",
        "formacion_bt(0, 0, [], 0, suma_max) # Backtracking\n",
        "\n",
        "# chequeo si hay combinaciones multiples\n",
        "# de serlo, decido en base a la suma de las defensas\n",
        "if len(atacantes_comb_max) > 1:\n",
        "  suma_defensa_max = 0\n",
        "  for combinacion in atacantes_comb_max: # recorro combinacion de atacantes\n",
        "    defensores_temp = list(filter(lambda jugador: jugador not in combinacion[0], sample)) # armo lista de defensores por combinacion de atacantes\n",
        "    suma_defensa_temp = sum([jugador[2] for jugador in defensores_temp]) # sumatoria del valor de defensa de los defensores\n",
        "    # print(\"defensores_i :\", defensores_temp)\n",
        "    # print(\"suma_def_i :\", suma_defensa_temp)\n",
        "    if suma_defensa_temp > suma_defensa_max:\n",
        "      suma_defensa_max = suma_defensa_temp\n",
        "      defensores_comb_max.clear()\n",
        "      defensores_comb_max.append(defensores_temp)\n",
        "    elif suma_defensa_temp == suma_defensa_max:\n",
        "      defensores_comb_max.append(defensores_temp)\n",
        "\n",
        "# chequeo si hay combinaciones multiples y decido en base orden alfabetico\n",
        "defensores_final = sorted(min(defensores_comb_max))\n",
        "atacantes_final = sorted(list(filter(lambda jugador: jugador not in defensores_final, sample)))\n",
        "\n",
        "# print(tuple(jugador[0] for jugador in atacantes_final))\n",
        "# print(tuple(jugador[0] for jugador in defensores_final))\n",
        "\n",
        "print(f\"Case {1}:\")\n",
        "print(\"(\", \", \".join([jugador[0] for jugador in atacantes_final]), \")\", sep=\"\")\n",
        "print(\"(\", \", \".join([jugador[0] for jugador in defensores_final]), \")\", sep=\"\")"
      ],
      "metadata": {
        "colab": {
          "base_uri": "https://localhost:8080/"
        },
        "id": "jcjMaY4yv4d-",
        "outputId": "7ce4dd19-bc4c-4cab-fbba-0164f3f8109c"
      },
      "execution_count": null,
      "outputs": [
        {
          "output_type": "stream",
          "name": "stdout",
          "text": [
            "Case 1:\n",
            "(emotionalblind, jaan, sameezahur, sohelh, tanaeem)\n",
            "(brokenarrow, muntasir, shadowcoder, shamim, sidky)\n"
          ]
        }
      ]
    }
  ]
}